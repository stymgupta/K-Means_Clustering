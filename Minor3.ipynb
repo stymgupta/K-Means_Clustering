{
  "nbformat": 4,
  "nbformat_minor": 0,
  "metadata": {
    "colab": {
      "name": "Minor3.ipynb",
      "provenance": [],
      "mount_file_id": "1uSEt3HsTXRi8mPPGgIjgEVsDB9Vdzbvh",
      "authorship_tag": "ABX9TyPgtaZR9lyK23mAI7SI6Hbg",
      "include_colab_link": true
    },
    "kernelspec": {
      "name": "python3",
      "display_name": "Python 3"
    },
    "language_info": {
      "name": "python"
    }
  },
  "cells": [
    {
      "cell_type": "markdown",
      "metadata": {
        "id": "view-in-github",
        "colab_type": "text"
      },
      "source": [
        "<a href=\"https://colab.research.google.com/github/stymgupta/K-Means_Clustering/blob/main/Minor3.ipynb\" target=\"_parent\"><img src=\"https://colab.research.google.com/assets/colab-badge.svg\" alt=\"Open In Colab\"/></a>"
      ]
    },
    {
      "cell_type": "markdown",
      "metadata": {
        "id": "MxFVV1o-SigA"
      },
      "source": [
        "## **Importing the dependencies**"
      ]
    },
    {
      "cell_type": "code",
      "metadata": {
        "id": "KfPX3QTaOT32"
      },
      "source": [
        "import pandas as pd\n",
        "import numpy as np\n",
        "import matplotlib.pyplot as plt\n",
        "from sklearn import datasets\n",
        "from sklearn.cluster import KMeans\n",
        "import seaborn as sns"
      ],
      "execution_count": null,
      "outputs": []
    },
    {
      "cell_type": "markdown",
      "metadata": {
        "id": "3SG3aYWESyqa"
      },
      "source": [
        "## **Reading the Dataset**"
      ]
    },
    {
      "cell_type": "code",
      "metadata": {
        "colab": {
          "base_uri": "https://localhost:8080/",
          "height": 204
        },
        "id": "AXNmtEGHO95W",
        "outputId": "1ccca997-9f24-4cef-ac85-b9118d7e6e43"
      },
      "source": [
        "df = pd.read_csv(\"/content/drive/MyDrive/income.csv\")\n",
        "df.head()"
      ],
      "execution_count": 3,
      "outputs": [
        {
          "output_type": "execute_result",
          "data": {
            "text/html": [
              "<div>\n",
              "<style scoped>\n",
              "    .dataframe tbody tr th:only-of-type {\n",
              "        vertical-align: middle;\n",
              "    }\n",
              "\n",
              "    .dataframe tbody tr th {\n",
              "        vertical-align: top;\n",
              "    }\n",
              "\n",
              "    .dataframe thead th {\n",
              "        text-align: right;\n",
              "    }\n",
              "</style>\n",
              "<table border=\"1\" class=\"dataframe\">\n",
              "  <thead>\n",
              "    <tr style=\"text-align: right;\">\n",
              "      <th></th>\n",
              "      <th>Name</th>\n",
              "      <th>Age</th>\n",
              "      <th>Income($)</th>\n",
              "    </tr>\n",
              "  </thead>\n",
              "  <tbody>\n",
              "    <tr>\n",
              "      <th>0</th>\n",
              "      <td>Rob</td>\n",
              "      <td>27</td>\n",
              "      <td>70000</td>\n",
              "    </tr>\n",
              "    <tr>\n",
              "      <th>1</th>\n",
              "      <td>Michael</td>\n",
              "      <td>29</td>\n",
              "      <td>90000</td>\n",
              "    </tr>\n",
              "    <tr>\n",
              "      <th>2</th>\n",
              "      <td>Mohan</td>\n",
              "      <td>29</td>\n",
              "      <td>61000</td>\n",
              "    </tr>\n",
              "    <tr>\n",
              "      <th>3</th>\n",
              "      <td>Ismail</td>\n",
              "      <td>28</td>\n",
              "      <td>60000</td>\n",
              "    </tr>\n",
              "    <tr>\n",
              "      <th>4</th>\n",
              "      <td>Kory</td>\n",
              "      <td>42</td>\n",
              "      <td>150000</td>\n",
              "    </tr>\n",
              "  </tbody>\n",
              "</table>\n",
              "</div>"
            ],
            "text/plain": [
              "      Name  Age  Income($)\n",
              "0      Rob   27      70000\n",
              "1  Michael   29      90000\n",
              "2    Mohan   29      61000\n",
              "3   Ismail   28      60000\n",
              "4     Kory   42     150000"
            ]
          },
          "metadata": {},
          "execution_count": 3
        }
      ]
    },
    {
      "cell_type": "code",
      "metadata": {
        "colab": {
          "base_uri": "https://localhost:8080/"
        },
        "id": "BkuhQZTfQcbt",
        "outputId": "0ba44efc-ae38-4050-e956-4e5edd0cb7a1"
      },
      "source": [
        "#Number of Rows and Columns\n",
        "df.shape"
      ],
      "execution_count": 4,
      "outputs": [
        {
          "output_type": "execute_result",
          "data": {
            "text/plain": [
              "(22, 3)"
            ]
          },
          "metadata": {},
          "execution_count": 4
        }
      ]
    },
    {
      "cell_type": "code",
      "metadata": {
        "colab": {
          "base_uri": "https://localhost:8080/"
        },
        "id": "zqqwemaNQduv",
        "outputId": "1ccc49c7-e474-432a-b6a9-2ddc08135d65"
      },
      "source": [
        "#information about the columns\n",
        "df.info()"
      ],
      "execution_count": 5,
      "outputs": [
        {
          "output_type": "stream",
          "text": [
            "<class 'pandas.core.frame.DataFrame'>\n",
            "RangeIndex: 22 entries, 0 to 21\n",
            "Data columns (total 3 columns):\n",
            " #   Column     Non-Null Count  Dtype \n",
            "---  ------     --------------  ----- \n",
            " 0   Name       22 non-null     object\n",
            " 1   Age        22 non-null     int64 \n",
            " 2   Income($)  22 non-null     int64 \n",
            "dtypes: int64(2), object(1)\n",
            "memory usage: 656.0+ bytes\n"
          ],
          "name": "stdout"
        }
      ]
    },
    {
      "cell_type": "code",
      "metadata": {
        "colab": {
          "base_uri": "https://localhost:8080/",
          "height": 297
        },
        "id": "ogYIQe2WQla2",
        "outputId": "81f8bf95-e95c-4195-da52-f24c9f156ba7"
      },
      "source": [
        "#Descripsion of Datasets\n",
        "df.describe()"
      ],
      "execution_count": 6,
      "outputs": [
        {
          "output_type": "execute_result",
          "data": {
            "text/html": [
              "<div>\n",
              "<style scoped>\n",
              "    .dataframe tbody tr th:only-of-type {\n",
              "        vertical-align: middle;\n",
              "    }\n",
              "\n",
              "    .dataframe tbody tr th {\n",
              "        vertical-align: top;\n",
              "    }\n",
              "\n",
              "    .dataframe thead th {\n",
              "        text-align: right;\n",
              "    }\n",
              "</style>\n",
              "<table border=\"1\" class=\"dataframe\">\n",
              "  <thead>\n",
              "    <tr style=\"text-align: right;\">\n",
              "      <th></th>\n",
              "      <th>Age</th>\n",
              "      <th>Income($)</th>\n",
              "    </tr>\n",
              "  </thead>\n",
              "  <tbody>\n",
              "    <tr>\n",
              "      <th>count</th>\n",
              "      <td>22.000000</td>\n",
              "      <td>22.000000</td>\n",
              "    </tr>\n",
              "    <tr>\n",
              "      <th>mean</th>\n",
              "      <td>34.818182</td>\n",
              "      <td>90431.818182</td>\n",
              "    </tr>\n",
              "    <tr>\n",
              "      <th>std</th>\n",
              "      <td>5.901060</td>\n",
              "      <td>43505.964412</td>\n",
              "    </tr>\n",
              "    <tr>\n",
              "      <th>min</th>\n",
              "      <td>26.000000</td>\n",
              "      <td>45000.000000</td>\n",
              "    </tr>\n",
              "    <tr>\n",
              "      <th>25%</th>\n",
              "      <td>29.000000</td>\n",
              "      <td>58500.000000</td>\n",
              "    </tr>\n",
              "    <tr>\n",
              "      <th>50%</th>\n",
              "      <td>36.500000</td>\n",
              "      <td>67500.000000</td>\n",
              "    </tr>\n",
              "    <tr>\n",
              "      <th>75%</th>\n",
              "      <td>39.750000</td>\n",
              "      <td>135250.000000</td>\n",
              "    </tr>\n",
              "    <tr>\n",
              "      <th>max</th>\n",
              "      <td>43.000000</td>\n",
              "      <td>162000.000000</td>\n",
              "    </tr>\n",
              "  </tbody>\n",
              "</table>\n",
              "</div>"
            ],
            "text/plain": [
              "             Age      Income($)\n",
              "count  22.000000      22.000000\n",
              "mean   34.818182   90431.818182\n",
              "std     5.901060   43505.964412\n",
              "min    26.000000   45000.000000\n",
              "25%    29.000000   58500.000000\n",
              "50%    36.500000   67500.000000\n",
              "75%    39.750000  135250.000000\n",
              "max    43.000000  162000.000000"
            ]
          },
          "metadata": {},
          "execution_count": 6
        }
      ]
    },
    {
      "cell_type": "code",
      "metadata": {
        "colab": {
          "base_uri": "https://localhost:8080/"
        },
        "id": "1hEfZfPWQrko",
        "outputId": "1978d4d3-8769-4722-e0da-e0656650f738"
      },
      "source": [
        "df.isnull().sum() #for null value"
      ],
      "execution_count": 7,
      "outputs": [
        {
          "output_type": "execute_result",
          "data": {
            "text/plain": [
              "Name         0\n",
              "Age          0\n",
              "Income($)    0\n",
              "dtype: int64"
            ]
          },
          "metadata": {},
          "execution_count": 7
        }
      ]
    },
    {
      "cell_type": "markdown",
      "metadata": {
        "id": "ITIXNYVoTfvb"
      },
      "source": [
        "## **Visualization of Dataset**"
      ]
    },
    {
      "cell_type": "code",
      "metadata": {
        "colab": {
          "base_uri": "https://localhost:8080/",
          "height": 374
        },
        "id": "-7KtNstbQv7i",
        "outputId": "6d48e219-aeb1-4a30-a366-2b45dea21adf"
      },
      "source": [
        "sns.pairplot(df);"
      ],
      "execution_count": 10,
      "outputs": [
        {
          "output_type": "display_data",
          "data": {
            "image/png": "[encoded data removed]",
            "text/plain": [
              "<Figure size 360x360 with 6 Axes>"
            ]
          },
          "metadata": {
            "needs_background": "light"
          }
        }
      ]
    },
    {
      "cell_type": "markdown",
      "metadata": {
        "id": "oKYsQlQvZTAG"
      },
      "source": [
        "## **Correlation Matrix**"
      ]
    },
    {
      "cell_type": "code",
      "metadata": {
        "colab": {
          "base_uri": "https://localhost:8080/",
          "height": 111
        },
        "id": "8EWAhfFWQ3qf",
        "outputId": "af528476-4231-4648-be47-d53feafb7771"
      },
      "source": [
        "df.corr()"
      ],
      "execution_count": 11,
      "outputs": [
        {
          "output_type": "execute_result",
          "data": {
            "text/html": [
              "<div>\n",
              "<style scoped>\n",
              "    .dataframe tbody tr th:only-of-type {\n",
              "        vertical-align: middle;\n",
              "    }\n",
              "\n",
              "    .dataframe tbody tr th {\n",
              "        vertical-align: top;\n",
              "    }\n",
              "\n",
              "    .dataframe thead th {\n",
              "        text-align: right;\n",
              "    }\n",
              "</style>\n",
              "<table border=\"1\" class=\"dataframe\">\n",
              "  <thead>\n",
              "    <tr style=\"text-align: right;\">\n",
              "      <th></th>\n",
              "      <th>Age</th>\n",
              "      <th>Income($)</th>\n",
              "    </tr>\n",
              "  </thead>\n",
              "  <tbody>\n",
              "    <tr>\n",
              "      <th>Age</th>\n",
              "      <td>1.000000</td>\n",
              "      <td>0.496856</td>\n",
              "    </tr>\n",
              "    <tr>\n",
              "      <th>Income($)</th>\n",
              "      <td>0.496856</td>\n",
              "      <td>1.000000</td>\n",
              "    </tr>\n",
              "  </tbody>\n",
              "</table>\n",
              "</div>"
            ],
            "text/plain": [
              "                Age  Income($)\n",
              "Age        1.000000   0.496856\n",
              "Income($)  0.496856   1.000000"
            ]
          },
          "metadata": {},
          "execution_count": 11
        }
      ]
    },
    {
      "cell_type": "code",
      "metadata": {
        "colab": {
          "base_uri": "https://localhost:8080/",
          "height": 311
        },
        "id": "Yb5vgBguRKcd",
        "outputId": "feb10f28-9977-49ec-8902-66d04d7ada7a"
      },
      "source": [
        "#Constructing Heatmap to understanding Correlation\n",
        "plt.figure(figsize= (7,4))\n",
        "plt.title(\"\\nHeatMap\\n\")\n",
        "sns.heatmap(abs(df.corr()), cmap='GnBu', annot=True);"
      ],
      "execution_count": 14,
      "outputs": [
        {
          "output_type": "display_data",
          "data": {
            "image/png": "[encoded data removed]",
            "text/plain": [
              "<Figure size 504x288 with 2 Axes>"
            ]
          },
          "metadata": {
            "needs_background": "light"
          }
        }
      ]
    },
    {
      "cell_type": "markdown",
      "metadata": {
        "id": "U8lLSl4yZe6q"
      },
      "source": [
        "## **K-Means Clustering**\n",
        "\n",
        "For Optimal Solution, Elbow method implemented"
      ]
    },
    {
      "cell_type": "code",
      "metadata": {
        "id": "wOl-AYOZRRC2"
      },
      "source": [
        "x = df.iloc[:,[1,2]]\n",
        "wcss=[]\n",
        "for i in range(1,10):\n",
        "  kmeans = KMeans(n_clusters=i, init='k-means++', n_jobs= -1)\n",
        "  kmeans.fit(x)\n",
        "  wcss.append(kmeans.inertia_)"
      ],
      "execution_count": 18,
      "outputs": []
    },
    {
      "cell_type": "code",
      "metadata": {
        "colab": {
          "base_uri": "https://localhost:8080/",
          "height": 421
        },
        "id": "31VlMmvDSAFZ",
        "outputId": "b1177c38-49bb-4b56-8096-0d5c96d386e9"
      },
      "source": [
        "#Ploting the Elbow Method\n",
        "dff = pd.DataFrame({'Cluster':range(1,10), 'wcss':wcss})\n",
        "plt.figure(figsize=(12,6))\n",
        "plt.plot(dff['Cluster'], dff['wcss'], marker='o')\n",
        "plt.xlabel(\"Number of Clusters\")\n",
        "plt.ylabel('Inertia')\n",
        "plt.title(\"The Elbow Method\")"
      ],
      "execution_count": 20,
      "outputs": [
        {
          "output_type": "execute_result",
          "data": {
            "text/plain": [
              "Text(0.5, 1.0, 'The Elbow Method')"
            ]
          },
          "metadata": {},
          "execution_count": 20
        },
        {
          "output_type": "display_data",
          "data": {
            "image/png": "[encoded data removed]",
            "text/plain": [
              "<Figure size 864x432 with 1 Axes>"
            ]
          },
          "metadata": {
            "needs_background": "light"
          }
        }
      ]
    },
    {
      "cell_type": "markdown",
      "metadata": {
        "id": "9_ifbS73Z38l"
      },
      "source": [
        "## **Training the K-Means Clustering Model**"
      ]
    },
    {
      "cell_type": "code",
      "metadata": {
        "colab": {
          "base_uri": "https://localhost:8080/"
        },
        "id": "B96-aERMWWr0",
        "outputId": "69873539-c509-40f5-e639-877a04ca0c7e"
      },
      "source": [
        "kmeans = KMeans(n_clusters = 2, init = 'k-means++', n_jobs= -1)\n",
        "kmeans.fit(x)\n",
        "kmeans.cluster_centers_"
      ],
      "execution_count": 38,
      "outputs": [
        {
          "output_type": "execute_result",
          "data": {
            "text/plain": [
              "array([[3.82857143e+01, 1.50000000e+05],\n",
              "       [3.32000000e+01, 6.26333333e+04]])"
            ]
          },
          "metadata": {},
          "execution_count": 38
        }
      ]
    },
    {
      "cell_type": "code",
      "metadata": {
        "colab": {
          "base_uri": "https://localhost:8080/"
        },
        "id": "leHRDK4mWYhq",
        "outputId": "e7340fef-619e-489f-d6ed-382e835f4d8b"
      },
      "source": [
        "kmeans.labels_"
      ],
      "execution_count": 39,
      "outputs": [
        {
          "output_type": "execute_result",
          "data": {
            "text/plain": [
              "array([1, 1, 1, 1, 0, 0, 0, 0, 0, 0, 0, 1, 1, 1, 1, 1, 1, 1, 1, 1, 1, 1],\n",
              "      dtype=int32)"
            ]
          },
          "metadata": {},
          "execution_count": 39
        }
      ]
    },
    {
      "cell_type": "code",
      "metadata": {
        "colab": {
          "base_uri": "https://localhost:8080/",
          "height": 731
        },
        "id": "d6eRDmngWv0j",
        "outputId": "8783fb79-5648-4a92-bd08-170bc788b4f4"
      },
      "source": [
        "df['cluster']=kmeans.labels_\n",
        "df"
      ],
      "execution_count": 40,
      "outputs": [
        {
          "output_type": "execute_result",
          "data": {
            "text/html": [
              "<div>\n",
              "<style scoped>\n",
              "    .dataframe tbody tr th:only-of-type {\n",
              "        vertical-align: middle;\n",
              "    }\n",
              "\n",
              "    .dataframe tbody tr th {\n",
              "        vertical-align: top;\n",
              "    }\n",
              "\n",
              "    .dataframe thead th {\n",
              "        text-align: right;\n",
              "    }\n",
              "</style>\n",
              "<table border=\"1\" class=\"dataframe\">\n",
              "  <thead>\n",
              "    <tr style=\"text-align: right;\">\n",
              "      <th></th>\n",
              "      <th>Name</th>\n",
              "      <th>Age</th>\n",
              "      <th>Income($)</th>\n",
              "      <th>cluster</th>\n",
              "    </tr>\n",
              "  </thead>\n",
              "  <tbody>\n",
              "    <tr>\n",
              "      <th>0</th>\n",
              "      <td>Rob</td>\n",
              "      <td>27</td>\n",
              "      <td>70000</td>\n",
              "      <td>1</td>\n",
              "    </tr>\n",
              "    <tr>\n",
              "      <th>1</th>\n",
              "      <td>Michael</td>\n",
              "      <td>29</td>\n",
              "      <td>90000</td>\n",
              "      <td>1</td>\n",
              "    </tr>\n",
              "    <tr>\n",
              "      <th>2</th>\n",
              "      <td>Mohan</td>\n",
              "      <td>29</td>\n",
              "      <td>61000</td>\n",
              "      <td>1</td>\n",
              "    </tr>\n",
              "    <tr>\n",
              "      <th>3</th>\n",
              "      <td>Ismail</td>\n",
              "      <td>28</td>\n",
              "      <td>60000</td>\n",
              "      <td>1</td>\n",
              "    </tr>\n",
              "    <tr>\n",
              "      <th>4</th>\n",
              "      <td>Kory</td>\n",
              "      <td>42</td>\n",
              "      <td>150000</td>\n",
              "      <td>0</td>\n",
              "    </tr>\n",
              "    <tr>\n",
              "      <th>5</th>\n",
              "      <td>Gautam</td>\n",
              "      <td>39</td>\n",
              "      <td>155000</td>\n",
              "      <td>0</td>\n",
              "    </tr>\n",
              "    <tr>\n",
              "      <th>6</th>\n",
              "      <td>David</td>\n",
              "      <td>41</td>\n",
              "      <td>160000</td>\n",
              "      <td>0</td>\n",
              "    </tr>\n",
              "    <tr>\n",
              "      <th>7</th>\n",
              "      <td>Andrea</td>\n",
              "      <td>38</td>\n",
              "      <td>162000</td>\n",
              "      <td>0</td>\n",
              "    </tr>\n",
              "    <tr>\n",
              "      <th>8</th>\n",
              "      <td>Brad</td>\n",
              "      <td>36</td>\n",
              "      <td>156000</td>\n",
              "      <td>0</td>\n",
              "    </tr>\n",
              "    <tr>\n",
              "      <th>9</th>\n",
              "      <td>Angelina</td>\n",
              "      <td>35</td>\n",
              "      <td>130000</td>\n",
              "      <td>0</td>\n",
              "    </tr>\n",
              "    <tr>\n",
              "      <th>10</th>\n",
              "      <td>Donald</td>\n",
              "      <td>37</td>\n",
              "      <td>137000</td>\n",
              "      <td>0</td>\n",
              "    </tr>\n",
              "    <tr>\n",
              "      <th>11</th>\n",
              "      <td>Tom</td>\n",
              "      <td>26</td>\n",
              "      <td>45000</td>\n",
              "      <td>1</td>\n",
              "    </tr>\n",
              "    <tr>\n",
              "      <th>12</th>\n",
              "      <td>Arnold</td>\n",
              "      <td>27</td>\n",
              "      <td>48000</td>\n",
              "      <td>1</td>\n",
              "    </tr>\n",
              "    <tr>\n",
              "      <th>13</th>\n",
              "      <td>Jared</td>\n",
              "      <td>28</td>\n",
              "      <td>51000</td>\n",
              "      <td>1</td>\n",
              "    </tr>\n",
              "    <tr>\n",
              "      <th>14</th>\n",
              "      <td>Stark</td>\n",
              "      <td>29</td>\n",
              "      <td>49500</td>\n",
              "      <td>1</td>\n",
              "    </tr>\n",
              "    <tr>\n",
              "      <th>15</th>\n",
              "      <td>Ranbir</td>\n",
              "      <td>32</td>\n",
              "      <td>53000</td>\n",
              "      <td>1</td>\n",
              "    </tr>\n",
              "    <tr>\n",
              "      <th>16</th>\n",
              "      <td>Dipika</td>\n",
              "      <td>40</td>\n",
              "      <td>65000</td>\n",
              "      <td>1</td>\n",
              "    </tr>\n",
              "    <tr>\n",
              "      <th>17</th>\n",
              "      <td>Priyanka</td>\n",
              "      <td>41</td>\n",
              "      <td>63000</td>\n",
              "      <td>1</td>\n",
              "    </tr>\n",
              "    <tr>\n",
              "      <th>18</th>\n",
              "      <td>Nick</td>\n",
              "      <td>43</td>\n",
              "      <td>64000</td>\n",
              "      <td>1</td>\n",
              "    </tr>\n",
              "    <tr>\n",
              "      <th>19</th>\n",
              "      <td>Alia</td>\n",
              "      <td>39</td>\n",
              "      <td>80000</td>\n",
              "      <td>1</td>\n",
              "    </tr>\n",
              "    <tr>\n",
              "      <th>20</th>\n",
              "      <td>Sid</td>\n",
              "      <td>41</td>\n",
              "      <td>82000</td>\n",
              "      <td>1</td>\n",
              "    </tr>\n",
              "    <tr>\n",
              "      <th>21</th>\n",
              "      <td>Abdul</td>\n",
              "      <td>39</td>\n",
              "      <td>58000</td>\n",
              "      <td>1</td>\n",
              "    </tr>\n",
              "  </tbody>\n",
              "</table>\n",
              "</div>"
            ],
            "text/plain": [
              "        Name  Age  Income($)  cluster\n",
              "0        Rob   27      70000        1\n",
              "1    Michael   29      90000        1\n",
              "2      Mohan   29      61000        1\n",
              "3     Ismail   28      60000        1\n",
              "4       Kory   42     150000        0\n",
              "5     Gautam   39     155000        0\n",
              "6      David   41     160000        0\n",
              "7     Andrea   38     162000        0\n",
              "8       Brad   36     156000        0\n",
              "9   Angelina   35     130000        0\n",
              "10    Donald   37     137000        0\n",
              "11       Tom   26      45000        1\n",
              "12    Arnold   27      48000        1\n",
              "13     Jared   28      51000        1\n",
              "14     Stark   29      49500        1\n",
              "15    Ranbir   32      53000        1\n",
              "16    Dipika   40      65000        1\n",
              "17  Priyanka   41      63000        1\n",
              "18      Nick   43      64000        1\n",
              "19      Alia   39      80000        1\n",
              "20       Sid   41      82000        1\n",
              "21     Abdul   39      58000        1"
            ]
          },
          "metadata": {},
          "execution_count": 40
        }
      ]
    },
    {
      "cell_type": "code",
      "metadata": {
        "colab": {
          "base_uri": "https://localhost:8080/",
          "height": 68
        },
        "id": "ypZEaxAzWz_C",
        "outputId": "b766cc8a-85c5-4115-e547-74e639a7ac47"
      },
      "source": [
        "display(df['cluster'].value_counts())"
      ],
      "execution_count": 41,
      "outputs": [
        {
          "output_type": "display_data",
          "data": {
            "text/plain": [
              "1    15\n",
              "0     7\n",
              "Name: cluster, dtype: int64"
            ]
          },
          "metadata": {}
        }
      ]
    },
    {
      "cell_type": "markdown",
      "metadata": {
        "id": "KsBh-qDQaEdk"
      },
      "source": [
        "## **Plotting Scatter Chart**"
      ]
    },
    {
      "cell_type": "code",
      "metadata": {
        "colab": {
          "base_uri": "https://localhost:8080/",
          "height": 367
        },
        "id": "uOU3cMRsXDEr",
        "outputId": "66e89c93-9b27-404c-9a7b-9ca0873662d6"
      },
      "source": [
        "plt.figure(figsize=(10,5))\n",
        "plt.scatter(df['Age'], df['Income($)'], c=df.cluster)\n",
        "plt.scatter(kmeans.cluster_centers_[:,0], kmeans.cluster_centers_[:,1], s=200, c='red', label=\"Centroids\")\n",
        "plt.title(\"Clusters of Data\")\n",
        "plt.xlabel('Age', fontsize=10)\n",
        "plt.ylabel('Income', fontsize=10)\n",
        "plt.legend()"
      ],
      "execution_count": 42,
      "outputs": [
        {
          "output_type": "execute_result",
          "data": {
            "text/plain": [
              "<matplotlib.legend.Legend at 0x7fe349a37d10>"
            ]
          },
          "metadata": {},
          "execution_count": 42
        },
        {
          "output_type": "display_data",
          "data": {
            "image/png": "[encoded data removed]",
            "text/plain": [
              "<Figure size 720x360 with 1 Axes>"
            ]
          },
          "metadata": {
            "needs_background": "light"
          }
        }
      ]
    },
    {
      "cell_type": "markdown",
      "metadata": {
        "id": "YEcGPV9HaSva"
      },
      "source": [
        "## **Conclusion**\n",
        "\n",
        "The Optimal solution for the given dataset is 2."
      ]
    }
  ]
}